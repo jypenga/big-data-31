{
 "cells": [
  {
   "cell_type": "code",
   "execution_count": 1,
   "id": "c06056dc",
   "metadata": {},
   "outputs": [],
   "source": [
    "import os\n",
    "import pandas as pd"
   ]
  },
  {
   "cell_type": "code",
   "execution_count": 2,
   "id": "45b6d1bc",
   "metadata": {},
   "outputs": [],
   "source": [
    "illegal_root = os.path.join('..', 'UvA-Big-Data-group-31', 'illegal')"
   ]
  },
  {
   "cell_type": "code",
   "execution_count": 3,
   "id": "80d33560",
   "metadata": {},
   "outputs": [],
   "source": [
    "test_true = pd.read_csv(os.path.join(illegal_root, 'test_not_hidden.csv')).label\n",
    "validation_true = pd.read_csv(os.path.join(illegal_root, 'validation_not_hidden.csv')).label"
   ]
  },
  {
   "cell_type": "code",
   "execution_count": 4,
   "id": "6da69fec",
   "metadata": {},
   "outputs": [],
   "source": [
    "test_pred = pd.read_csv(os.path.join('ml', 'predictions', 'test_predictions.txt'), header=None)\n",
    "validation_pred = pd.read_csv(os.path.join('ml', 'predictions', 'validation_predictions.txt'), header=None)"
   ]
  },
  {
   "cell_type": "code",
   "execution_count": 5,
   "id": "91995d0a",
   "metadata": {},
   "outputs": [
    {
     "name": "stdout",
     "output_type": "stream",
     "text": [
      "0.7946593001841621\n",
      "0.8701570680628272\n"
     ]
    }
   ],
   "source": [
    "from sklearn.metrics import accuracy_score\n",
    "\n",
    "print(accuracy_score(test_true, test_pred))\n",
    "print(accuracy_score(validation_true, validation_pred))"
   ]
  },
  {
   "cell_type": "code",
   "execution_count": 3,
   "id": "22be3fc5",
   "metadata": {},
   "outputs": [
    {
     "data": {
      "text/html": [
       "<div>\n",
       "<style scoped>\n",
       "    .dataframe tbody tr th:only-of-type {\n",
       "        vertical-align: middle;\n",
       "    }\n",
       "\n",
       "    .dataframe tbody tr th {\n",
       "        vertical-align: top;\n",
       "    }\n",
       "\n",
       "    .dataframe thead th {\n",
       "        text-align: right;\n",
       "    }\n",
       "</style>\n",
       "<table border=\"1\" class=\"dataframe\">\n",
       "  <thead>\n",
       "    <tr style=\"text-align: right;\">\n",
       "      <th></th>\n",
       "      <th>movie</th>\n",
       "      <th>writer</th>\n",
       "    </tr>\n",
       "  </thead>\n",
       "  <tbody>\n",
       "    <tr>\n",
       "      <th>0</th>\n",
       "      <td>tt0003740</td>\n",
       "      <td>nm0195339</td>\n",
       "    </tr>\n",
       "    <tr>\n",
       "      <th>1</th>\n",
       "      <td>tt0003740</td>\n",
       "      <td>nm0515385</td>\n",
       "    </tr>\n",
       "    <tr>\n",
       "      <th>2</th>\n",
       "      <td>tt0003740</td>\n",
       "      <td>nm0665163</td>\n",
       "    </tr>\n",
       "    <tr>\n",
       "      <th>3</th>\n",
       "      <td>tt0003740</td>\n",
       "      <td>nm0758215</td>\n",
       "    </tr>\n",
       "    <tr>\n",
       "      <th>4</th>\n",
       "      <td>tt0008663</td>\n",
       "      <td>nm0406585</td>\n",
       "    </tr>\n",
       "    <tr>\n",
       "      <th>...</th>\n",
       "      <td>...</td>\n",
       "      <td>...</td>\n",
       "    </tr>\n",
       "    <tr>\n",
       "      <th>22423</th>\n",
       "      <td>tt9904802</td>\n",
       "      <td>nm0942647</td>\n",
       "    </tr>\n",
       "    <tr>\n",
       "      <th>22424</th>\n",
       "      <td>tt9904802</td>\n",
       "      <td>nm3853396</td>\n",
       "    </tr>\n",
       "    <tr>\n",
       "      <th>22425</th>\n",
       "      <td>tt9911196</td>\n",
       "      <td>nm2063122</td>\n",
       "    </tr>\n",
       "    <tr>\n",
       "      <th>22426</th>\n",
       "      <td>tt9911196</td>\n",
       "      <td>nm0277932</td>\n",
       "    </tr>\n",
       "    <tr>\n",
       "      <th>22427</th>\n",
       "      <td>tt9911196</td>\n",
       "      <td>nm3547655</td>\n",
       "    </tr>\n",
       "  </tbody>\n",
       "</table>\n",
       "<p>22428 rows × 2 columns</p>\n",
       "</div>"
      ],
      "text/plain": [
       "           movie     writer\n",
       "0      tt0003740  nm0195339\n",
       "1      tt0003740  nm0515385\n",
       "2      tt0003740  nm0665163\n",
       "3      tt0003740  nm0758215\n",
       "4      tt0008663  nm0406585\n",
       "...          ...        ...\n",
       "22423  tt9904802  nm0942647\n",
       "22424  tt9904802  nm3853396\n",
       "22425  tt9911196  nm2063122\n",
       "22426  tt9911196  nm0277932\n",
       "22427  tt9911196  nm3547655\n",
       "\n",
       "[22428 rows x 2 columns]"
      ]
     },
     "execution_count": 3,
     "metadata": {},
     "output_type": "execute_result"
    }
   ],
   "source": [
    "import duckdb\n",
    "\n",
    "conn = duckdb.connect('db/unstructured.duckdb', read_only=True)\n",
    "conn.execute('SELECT * FROM writing').fetchdf()"
   ]
  },
  {
   "cell_type": "code",
   "execution_count": null,
   "id": "349c75d9",
   "metadata": {},
   "outputs": [],
   "source": []
  }
 ],
 "metadata": {
  "kernelspec": {
   "display_name": "Python 3 (ipykernel)",
   "language": "python",
   "name": "python3"
  },
  "language_info": {
   "codemirror_mode": {
    "name": "ipython",
    "version": 3
   },
   "file_extension": ".py",
   "mimetype": "text/x-python",
   "name": "python",
   "nbconvert_exporter": "python",
   "pygments_lexer": "ipython3",
   "version": "3.8.12"
  }
 },
 "nbformat": 4,
 "nbformat_minor": 5
}
