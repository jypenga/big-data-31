{
 "cells": [
  {
   "cell_type": "code",
   "execution_count": 1,
   "id": "c06056dc",
   "metadata": {},
   "outputs": [],
   "source": [
    "import os\n",
    "import pandas as pd"
   ]
  },
  {
   "cell_type": "code",
   "execution_count": 2,
   "id": "45b6d1bc",
   "metadata": {},
   "outputs": [],
   "source": [
    "illegal_root = os.path.join('..', 'UvA-Big-Data-group-31', 'illegal')"
   ]
  },
  {
   "cell_type": "code",
   "execution_count": 3,
   "id": "80d33560",
   "metadata": {},
   "outputs": [],
   "source": [
    "test_true = pd.read_csv(os.path.join(illegal_root, 'test_not_hidden.csv')).label\n",
    "validation_true = pd.read_csv(os.path.join(illegal_root, 'validation_not_hidden.csv')).label"
   ]
  },
  {
   "cell_type": "code",
   "execution_count": 4,
   "id": "6da69fec",
   "metadata": {},
   "outputs": [],
   "source": [
    "test_pred = pd.read_csv(os.path.join('ml', 'predictions', 'test_predictions.txt'), header=None)\n",
    "validation_pred = pd.read_csv(os.path.join('ml', 'predictions', 'validation_predictions.txt'), header=None)"
   ]
  },
  {
   "cell_type": "code",
   "execution_count": 5,
   "id": "91995d0a",
   "metadata": {},
   "outputs": [
    {
     "name": "stdout",
     "output_type": "stream",
     "text": [
      "0.7946593001841621\n",
      "0.8701570680628272\n"
     ]
    }
   ],
   "source": [
    "from sklearn.metrics import accuracy_score\n",
    "\n",
    "print(accuracy_score(test_true, test_pred))\n",
    "print(accuracy_score(validation_true, validation_pred))"
   ]
  },
  {
   "cell_type": "code",
   "execution_count": null,
   "id": "22be3fc5",
   "metadata": {},
   "outputs": [],
   "source": []
  }
 ],
 "metadata": {
  "kernelspec": {
   "display_name": "Python 3 (ipykernel)",
   "language": "python",
   "name": "python3"
  },
  "language_info": {
   "codemirror_mode": {
    "name": "ipython",
    "version": 3
   },
   "file_extension": ".py",
   "mimetype": "text/x-python",
   "name": "python",
   "nbconvert_exporter": "python",
   "pygments_lexer": "ipython3",
   "version": "3.8.12"
  }
 },
 "nbformat": 4,
 "nbformat_minor": 5
}
